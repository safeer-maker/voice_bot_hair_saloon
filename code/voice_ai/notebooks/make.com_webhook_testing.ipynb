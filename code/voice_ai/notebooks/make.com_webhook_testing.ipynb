{
 "cells": [
  {
   "cell_type": "code",
   "execution_count": 2,
   "metadata": {},
   "outputs": [],
   "source": [
    "import requests\n",
    "import json"
   ]
  },
  {
   "cell_type": "markdown",
   "metadata": {},
   "source": [
    "# JSON\n",
    "### POST \n",
    "https://hook.make.com/yourunique32characterslongstring\n",
    "Content-Type: application/json\n",
    "\n",
    "{\"name\": \"Integrobot\", \"job\": \"automate\"}\n"
   ]
  },
  {
   "cell_type": "code",
   "execution_count": 14,
   "metadata": {},
   "outputs": [],
   "source": [
    "hook_url = \"https://hook.us2.make.com/f2dg7j2v2heql02cx0m0x4sg7295d86v\"\n",
    "\n",
    "for i in range(2):\n",
    "\n",
    "    JSON= {\n",
    "        \"name\"      : f\"sam_{i}\",\n",
    "        \"time_date\" : \"2021-09-13T15:00:00\",\n",
    "        \"service\"   : \"haircut\",\n",
    "        \"artist\"    : \"joe\",\n",
    "        \"event\"     : \"casual\",\n",
    "        \"summary\"   : \"haircut is scheduled\",\n",
    "        \"call_url\"  : \"https://hook.us2.make.com/f2dg\",\n",
    "        \"status\"    : \"schedule\",\n",
    "    }\n",
    "\n",
    "    requests.post(hook_url, json=JSON)"
   ]
  },
  {
   "cell_type": "markdown",
   "metadata": {},
   "source": [
    "### **Requested is sucessfully delivered and processed to make webhook**"
   ]
  },
  {
   "cell_type": "code",
   "execution_count": null,
   "metadata": {},
   "outputs": [],
   "source": []
  }
 ],
 "metadata": {
  "kernelspec": {
   "display_name": "ai",
   "language": "python",
   "name": "python3"
  },
  "language_info": {
   "codemirror_mode": {
    "name": "ipython",
    "version": 3
   },
   "file_extension": ".py",
   "mimetype": "text/x-python",
   "name": "python",
   "nbconvert_exporter": "python",
   "pygments_lexer": "ipython3",
   "version": "3.10.16"
  }
 },
 "nbformat": 4,
 "nbformat_minor": 2
}
